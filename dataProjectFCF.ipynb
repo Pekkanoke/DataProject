{
 "cells": [
  {
   "attachments": {},
   "cell_type": "markdown",
   "metadata": {},
   "source": [
    "# Dataprojekti\n",
    "\n",
    "## Sisältö:\n",
    "* ### [Johdanto](#1.-Johdanto)\n",
    "* ### [Aineiston kerääminen](#2.-Aineiston-keraaminen)\n",
    "* ### [Raapija](#3.-Raapija)\n",
    "* ### [DCF-laskelmat](#4.-DCF-laskelmat)\n",
    "* ### [Osakkeen hinnoittelu](#5.-Osakkeen-hinnoittelu)"
   ]
  },
  {
   "attachments": {},
   "cell_type": "markdown",
   "metadata": {},
   "source": [
    "# 1. Johdanto\n",
    "\n",
    "### Yleistä\n",
    "Jupyter Notebook on interaktiivinen kehitysympäristö datatutkimukselle ja\n",
    " -analyysille. Tämä projekti toteutetaan Jupyter Notebookissa. <br><br>\n",
    "Projekti koostuu datatiedeprosessin keskeisistä vaiheista datan lukemisesta \n",
    "tulosten raportointiin. Projektin teemana käsitellään yritysten Yahoo Financesta \n",
    "saatavia eri liiketoiminna ja kannattavuuden lukuja, eli datalähteenä toimii\n",
    "yfinance. <br><br>\n",
    "### Vapaan kassavirran valuaatiosta\n",
    "Projektissa lasketaan yritysten kassavirtoja ja tehdään DCF-laskelmia, joten \n",
    "niistä tulee kertoa hieman. DCF-laskelmilla osakkeen nykyarvo lasketaan yrityksen \n",
    "tulevaisuuden kassavirtojen nykyarvon avulla. Tässä työssä DCF-laskelmia \n",
    "käytetään arvioimaan yrityksen tai sen osakkeiden arvoa FCFF:n (Free Cash Flow \n",
    "to Firm) tai FCFE:n (Free Cash Flow to Equity) avulla.\n",
    "FCFF ja FCFE eivät ole suoraan saatavaa dataa tilinpäätöksestä, joten työssä \n",
    "nämä lasketaan itse. Tutkimusten mukaan noin 70 % analyytikoista käyttää \n",
    "diskontattujen vapaiden kassavirtojen mallia, kun he arvostavat yrityksiä \n",
    "(CFA Institute).<br><br>\n",
    "Free cash flow to firm tai free cash flow to equitya käytetään usein, kun \n",
    "joku tai useampi seuraavista kriteereistä täyttyy:<br>\n",
    "- Yritys ei maksa osinkoa\n",
    "- Maksettujen osinkojen määrä eroaa huomattavasti maksukykyyn nähden\n",
    "- Vapaat kassavirrat ovat linjassa kannattavuuden kanssa kohtuullisen \n",
    "ennustejakson aikana\n",
    "- Sijoittaja ottaa \"kontrolli\"-näkökulman (CFA Institute)<br><br>\n",
    "\n",
    "Osakekannan arvo voidaan määrittää suoraan määrittämällä FCFE:n \n",
    "nykyarvon tai epäsuorasti FCFF:n avulla määrittämällä yrityksen arvo ja \n",
    "vähentämällä tästä velat, päätyen oletettuun pääoman arvoon. Esimerkiksi FCFE:n \n",
    "kohdalla osakekannan arvo voidaan selvittää diskonttaamalla tulevaisuuden FCFE:t\n",
    " tuottovaatimuksella. (CFA Institute) Yksittäisen osakkeen arvo saadaan tämän \n",
    " jälkeen jakamalla pääoman arvo osakkeiden lukumäärällä. "
   ]
  },
  {
   "attachments": {},
   "cell_type": "markdown",
   "metadata": {},
   "source": [
    "# 2. Aineiston kerääminen\n",
    "Dataa voidaan kerätä Pythonilla monella eri tavalla. Usein käytetty tapa on \n",
    "hyödyntää Pandas-kirjastoa ja DataFrame-rakennetta. Vaihtoehtoisesti dataa\n",
    "voidaan kerätä API-kutsuilla, Excel-tiedostoista tai muiden menetelmien avulla. \n",
    "DataFrame on tarjoaa tehokkaan tavan käsitellä datarivejä ja -sarakkeita.\n",
    "<br><br>\n",
    "\n",
    "## Datan lukeminen lähteestä\n",
    "\n",
    "Projektia varten kerätään dataa Yahoo Financesta. Luetaan seuraavaksi sieltä \n",
    "yrityksen taloudellisia tietoja. Valitaan tähän \n",
    "esimerkkiin yritykseksi Alibaba, eli BABA. <br>\n",
    "Hyödynnetään Pythonin pandasia ja yfinancea datan lukemisessa. <br><br>\n",
    "Määritetään alkuun analysoitava yritys ja asetetaan tuottovaatimus.<br><br>"
   ]
  },
  {
   "cell_type": "code",
   "execution_count": 43,
   "metadata": {},
   "outputs": [],
   "source": [
    "# INSTALL IF NEEDED\n",
    "\n",
    "#%pip install yfinance\n",
    "#%pip install pandas\n",
    "#%pip install requests\n",
    "#%pip install plotly\n",
    "#%pip install numpy\n",
    "#%pip install matplotlib\n",
    "#%pip install beautifulsoup4"
   ]
  },
  {
   "cell_type": "code",
   "execution_count": 44,
   "metadata": {},
   "outputs": [],
   "source": [
    "import pandas as pd\n",
    "import yfinance as yf\n",
    "import numpy as np\n",
    "import matplotlib.pyplot as plt\n",
    "from datetime import datetime"
   ]
  },
  {
   "cell_type": "code",
   "execution_count": 45,
   "metadata": {},
   "outputs": [],
   "source": [
    "# Stock to be analyzed\n",
    "TICKER = yf.Ticker('BABA')\n",
    "\n",
    "# Required rate of return\n",
    "RRR = 0.12\n",
    "\n",
    "# WACC for the company\n",
    "wacc = 0.11"
   ]
  },
  {
   "attachments": {},
   "cell_type": "markdown",
   "metadata": {},
   "source": [
    "Tarkastellaa seuraavaksi yrityksen tietoja info-metodilla, joka antaa yleisiä\n",
    "yritykseen liittyviä tietoja."
   ]
  },
  {
   "cell_type": "code",
   "execution_count": 46,
   "metadata": {},
   "outputs": [
    {
     "data": {
      "text/plain": [
       "\"Alibaba Group Holding Limited, through its subsidiaries, provides technology infrastructure and marketing reach to help merchants, brands, retailers, and other businesses to engage with their users and customers in the People's Republic of China and internationally. The company operates through seven segments: China Commerce, International Commerce, Local Consumer Services, Cainiao, Cloud, Digital Media and Entertainment, and Innovation Initiatives and Others. It operates Taobao, a digital retail platform; Tmall, a third-party online and mobile commerce platform; Alimama, a monetization platform; 1688.com and Alibaba.com, which are online wholesale marketplaces; AliExpress, a retail marketplace; Lazada, Trendyol, and Daraz that are e-commerce platforms; Freshippo, a retail platform for groceries and fresh goods; and Tmall Global, an import e-commerce platform. The company also operates Cainiao Network logistic services platform; Ele.me, an on-demand delivery and local services platform; Koubei, a restaurant and local services guide platform; and Fliggy, an online travel platform. In addition, it offers pay-for-performance, in-feed, and display marketing services; and Taobao Ad Network and Exchange, a real-time online bidding marketing exchange. Further, the company provides elastic computing, storage, network, security, database, big data, and IoT services; and hardware, software license, software installation, and application development and maintenance services. Additionally, it operates Youku, an online video platform; Quark, a platform for information search, storage, and consumption; Alibaba Pictures and other content platforms that provide online videos, films, live events, news feeds, literature, music, and others; Amap, a mobile digital map, navigation, and real-time traffic information app; DingTalk, a business efficiency mobile app; and Tmall Genie smart speaker. The company was incorporated in 1999 and is based in Hangzhou, the People's Republic of China.\""
      ]
     },
     "execution_count": 46,
     "metadata": {},
     "output_type": "execute_result"
    }
   ],
   "source": [
    "info = TICKER.info\n",
    "info['longBusinessSummary']"
   ]
  },
  {
   "attachments": {},
   "cell_type": "markdown",
   "metadata": {},
   "source": [
    "Katsotaan vielä muita yrityksen tärkeitä tietoja, joita voidaan halutessaan\n",
    "hakea eri datan haku komennoilla."
   ]
  },
  {
   "cell_type": "code",
   "execution_count": 47,
   "metadata": {},
   "outputs": [
    {
     "name": "stdout",
     "output_type": "stream",
     "text": [
      "Insider holdings: 0.01 %\n",
      "Institutional holdings: 14.18 %\n"
     ]
    }
   ],
   "source": [
    "# Understand the owner structure\n",
    "print(\"Insider holdings:\", round(TICKER.info['heldPercentInsiders'] * 100,\n",
    "                                  2), \"%\")\n",
    "print(\"Institutional holdings:\", round(TICKER.info['heldPercentInstitutions'] *\n",
    "                                       100, 2), \"%\")"
   ]
  },
  {
   "cell_type": "code",
   "execution_count": 48,
   "metadata": {},
   "outputs": [
    {
     "data": {
      "text/html": [
       "<div>\n",
       "<style scoped>\n",
       "    .dataframe tbody tr th:only-of-type {\n",
       "        vertical-align: middle;\n",
       "    }\n",
       "\n",
       "    .dataframe tbody tr th {\n",
       "        vertical-align: top;\n",
       "    }\n",
       "\n",
       "    .dataframe thead th {\n",
       "        text-align: right;\n",
       "    }\n",
       "</style>\n",
       "<table border=\"1\" class=\"dataframe\">\n",
       "  <thead>\n",
       "    <tr style=\"text-align: right;\">\n",
       "      <th></th>\n",
       "      <th>Dividends</th>\n",
       "      <th>Stock Splits</th>\n",
       "    </tr>\n",
       "    <tr>\n",
       "      <th>Date</th>\n",
       "      <th></th>\n",
       "      <th></th>\n",
       "    </tr>\n",
       "  </thead>\n",
       "  <tbody>\n",
       "    <tr>\n",
       "      <th>2023-12-20 00:00:00-05:00</th>\n",
       "      <td>1.0</td>\n",
       "      <td>0.0</td>\n",
       "    </tr>\n",
       "  </tbody>\n",
       "</table>\n",
       "</div>"
      ],
      "text/plain": [
       "                           Dividends  Stock Splits\n",
       "Date                                              \n",
       "2023-12-20 00:00:00-05:00        1.0           0.0"
      ]
     },
     "execution_count": 48,
     "metadata": {},
     "output_type": "execute_result"
    }
   ],
   "source": [
    "# Corporate actions. Also could use .dividends or .splits.\n",
    "actions = TICKER.actions\n",
    "actions_df = pd.DataFrame(actions)\n",
    "\n",
    "actions_df.head()"
   ]
  },
  {
   "cell_type": "code",
   "execution_count": 49,
   "metadata": {},
   "outputs": [
    {
     "data": {
      "text/html": [
       "<div>\n",
       "<style scoped>\n",
       "    .dataframe tbody tr th:only-of-type {\n",
       "        vertical-align: middle;\n",
       "    }\n",
       "\n",
       "    .dataframe tbody tr th {\n",
       "        vertical-align: top;\n",
       "    }\n",
       "\n",
       "    .dataframe thead th {\n",
       "        text-align: right;\n",
       "    }\n",
       "</style>\n",
       "<table border=\"1\" class=\"dataframe\">\n",
       "  <thead>\n",
       "    <tr style=\"text-align: right;\">\n",
       "      <th></th>\n",
       "      <th>2023-03-31</th>\n",
       "      <th>2022-03-31</th>\n",
       "      <th>2021-03-31</th>\n",
       "      <th>2020-03-31</th>\n",
       "    </tr>\n",
       "  </thead>\n",
       "  <tbody>\n",
       "    <tr>\n",
       "      <th>Tax Effect Of Unusual Items</th>\n",
       "      <td>-461380000.0</td>\n",
       "      <td>-6285250000.0</td>\n",
       "      <td>0.0</td>\n",
       "      <td>-71071511.296469</td>\n",
       "    </tr>\n",
       "    <tr>\n",
       "      <th>Tax Rate For Calcs</th>\n",
       "      <td>0.17</td>\n",
       "      <td>0.25</td>\n",
       "      <td>0.176823</td>\n",
       "      <td>0.123388</td>\n",
       "    </tr>\n",
       "    <tr>\n",
       "      <th>Normalized EBITDA</th>\n",
       "      <td>155826000000.0</td>\n",
       "      <td>153367000000.0</td>\n",
       "      <td>217963000000.0</td>\n",
       "      <td>214828000000.0</td>\n",
       "    </tr>\n",
       "    <tr>\n",
       "      <th>Total Unusual Items</th>\n",
       "      <td>-2714000000.0</td>\n",
       "      <td>-25141000000.0</td>\n",
       "      <td>0.0</td>\n",
       "      <td>-576000000.0</td>\n",
       "    </tr>\n",
       "    <tr>\n",
       "      <th>Total Unusual Items Excluding Goodwill</th>\n",
       "      <td>-2714000000.0</td>\n",
       "      <td>-25141000000.0</td>\n",
       "      <td>0.0</td>\n",
       "      <td>-576000000.0</td>\n",
       "    </tr>\n",
       "  </tbody>\n",
       "</table>\n",
       "</div>"
      ],
      "text/plain": [
       "                                            2023-03-31      2022-03-31  \\\n",
       "Tax Effect Of Unusual Items               -461380000.0   -6285250000.0   \n",
       "Tax Rate For Calcs                                0.17            0.25   \n",
       "Normalized EBITDA                       155826000000.0  153367000000.0   \n",
       "Total Unusual Items                      -2714000000.0  -25141000000.0   \n",
       "Total Unusual Items Excluding Goodwill   -2714000000.0  -25141000000.0   \n",
       "\n",
       "                                            2021-03-31       2020-03-31  \n",
       "Tax Effect Of Unusual Items                        0.0 -71071511.296469  \n",
       "Tax Rate For Calcs                            0.176823         0.123388  \n",
       "Normalized EBITDA                       217963000000.0   214828000000.0  \n",
       "Total Unusual Items                                0.0     -576000000.0  \n",
       "Total Unusual Items Excluding Goodwill             0.0     -576000000.0  "
      ]
     },
     "execution_count": 49,
     "metadata": {},
     "output_type": "execute_result"
    }
   ],
   "source": [
    "# Financial statements\n",
    "financials = TICKER.financials\n",
    "financials_df = pd.DataFrame(financials)\n",
    "\n",
    "financials_df.head()"
   ]
  },
  {
   "cell_type": "code",
   "execution_count": 50,
   "metadata": {},
   "outputs": [
    {
     "data": {
      "text/html": [
       "<div>\n",
       "<style scoped>\n",
       "    .dataframe tbody tr th:only-of-type {\n",
       "        vertical-align: middle;\n",
       "    }\n",
       "\n",
       "    .dataframe tbody tr th {\n",
       "        vertical-align: top;\n",
       "    }\n",
       "\n",
       "    .dataframe thead th {\n",
       "        text-align: right;\n",
       "    }\n",
       "</style>\n",
       "<table border=\"1\" class=\"dataframe\">\n",
       "  <thead>\n",
       "    <tr style=\"text-align: right;\">\n",
       "      <th></th>\n",
       "      <th>2023-03-31</th>\n",
       "      <th>2022-03-31</th>\n",
       "      <th>2021-03-31</th>\n",
       "      <th>2020-03-31</th>\n",
       "    </tr>\n",
       "  </thead>\n",
       "  <tbody>\n",
       "    <tr>\n",
       "      <th>Ordinary Shares Number</th>\n",
       "      <td>20526017712.0</td>\n",
       "      <td>21357323112.0</td>\n",
       "      <td>21699031448.0</td>\n",
       "      <td>21491994944.0</td>\n",
       "    </tr>\n",
       "    <tr>\n",
       "      <th>Share Issued</th>\n",
       "      <td>20526017712.0</td>\n",
       "      <td>21357323112.0</td>\n",
       "      <td>21699031448.0</td>\n",
       "      <td>21491994944.0</td>\n",
       "    </tr>\n",
       "    <tr>\n",
       "      <th>Total Debt</th>\n",
       "      <td>195569000000.0</td>\n",
       "      <td>176597000000.0</td>\n",
       "      <td>181439000000.0</td>\n",
       "      <td>147287000000.0</td>\n",
       "    </tr>\n",
       "    <tr>\n",
       "      <th>Tangible Book Value</th>\n",
       "      <td>665748000000.0</td>\n",
       "      <td>607242000000.0</td>\n",
       "      <td>564517000000.0</td>\n",
       "      <td>405652000000.0</td>\n",
       "    </tr>\n",
       "    <tr>\n",
       "      <th>Invested Capital</th>\n",
       "      <td>1151011000000.0</td>\n",
       "      <td>1089823000000.0</td>\n",
       "      <td>1086623000000.0</td>\n",
       "      <td>880831000000.0</td>\n",
       "    </tr>\n",
       "  </tbody>\n",
       "</table>\n",
       "</div>"
      ],
      "text/plain": [
       "                             2023-03-31       2022-03-31       2021-03-31  \\\n",
       "Ordinary Shares Number    20526017712.0    21357323112.0    21699031448.0   \n",
       "Share Issued              20526017712.0    21357323112.0    21699031448.0   \n",
       "Total Debt               195569000000.0   176597000000.0   181439000000.0   \n",
       "Tangible Book Value      665748000000.0   607242000000.0   564517000000.0   \n",
       "Invested Capital        1151011000000.0  1089823000000.0  1086623000000.0   \n",
       "\n",
       "                            2020-03-31  \n",
       "Ordinary Shares Number   21491994944.0  \n",
       "Share Issued             21491994944.0  \n",
       "Total Debt              147287000000.0  \n",
       "Tangible Book Value     405652000000.0  \n",
       "Invested Capital        880831000000.0  "
      ]
     },
     "execution_count": 50,
     "metadata": {},
     "output_type": "execute_result"
    }
   ],
   "source": [
    "# Financial statements\n",
    "balance = TICKER.balancesheet\n",
    "balance_df = pd.DataFrame(balance)\n",
    "\n",
    "balance_df.head()"
   ]
  },
  {
   "cell_type": "code",
   "execution_count": 51,
   "metadata": {},
   "outputs": [
    {
     "data": {
      "text/html": [
       "<div>\n",
       "<style scoped>\n",
       "    .dataframe tbody tr th:only-of-type {\n",
       "        vertical-align: middle;\n",
       "    }\n",
       "\n",
       "    .dataframe tbody tr th {\n",
       "        vertical-align: top;\n",
       "    }\n",
       "\n",
       "    .dataframe thead th {\n",
       "        text-align: right;\n",
       "    }\n",
       "</style>\n",
       "<table border=\"1\" class=\"dataframe\">\n",
       "  <thead>\n",
       "    <tr style=\"text-align: right;\">\n",
       "      <th></th>\n",
       "      <th>2023-03-31</th>\n",
       "      <th>2022-03-31</th>\n",
       "      <th>2021-03-31</th>\n",
       "      <th>2020-03-31</th>\n",
       "    </tr>\n",
       "  </thead>\n",
       "  <tbody>\n",
       "    <tr>\n",
       "      <th>Free Cash Flow</th>\n",
       "      <td>165400000000.0</td>\n",
       "      <td>89435000000.0</td>\n",
       "      <td>188601000000.0</td>\n",
       "      <td>135221000000.0</td>\n",
       "    </tr>\n",
       "    <tr>\n",
       "      <th>Repurchase Of Capital Stock</th>\n",
       "      <td>-74746000000.0</td>\n",
       "      <td>-61225000000.0</td>\n",
       "      <td>-773000000.0</td>\n",
       "      <td>0.0</td>\n",
       "    </tr>\n",
       "    <tr>\n",
       "      <th>Repayment Of Debt</th>\n",
       "      <td>-11448000000.0</td>\n",
       "      <td>-16713000000.0</td>\n",
       "      <td>-7061000000.0</td>\n",
       "      <td>-31741000000.0</td>\n",
       "    </tr>\n",
       "    <tr>\n",
       "      <th>Issuance Of Debt</th>\n",
       "      <td>22790000000.0</td>\n",
       "      <td>9427000000.0</td>\n",
       "      <td>38410000000.0</td>\n",
       "      <td>15719000000.0</td>\n",
       "    </tr>\n",
       "    <tr>\n",
       "      <th>Issuance Of Capital Stock</th>\n",
       "      <td>11000000.0</td>\n",
       "      <td>109000000.0</td>\n",
       "      <td>175000000.0</td>\n",
       "      <td>91506000000.0</td>\n",
       "    </tr>\n",
       "  </tbody>\n",
       "</table>\n",
       "</div>"
      ],
      "text/plain": [
       "                                 2023-03-31     2022-03-31      2021-03-31  \\\n",
       "Free Cash Flow               165400000000.0  89435000000.0  188601000000.0   \n",
       "Repurchase Of Capital Stock  -74746000000.0 -61225000000.0    -773000000.0   \n",
       "Repayment Of Debt            -11448000000.0 -16713000000.0   -7061000000.0   \n",
       "Issuance Of Debt              22790000000.0   9427000000.0   38410000000.0   \n",
       "Issuance Of Capital Stock        11000000.0    109000000.0     175000000.0   \n",
       "\n",
       "                                 2020-03-31  \n",
       "Free Cash Flow               135221000000.0  \n",
       "Repurchase Of Capital Stock             0.0  \n",
       "Repayment Of Debt            -31741000000.0  \n",
       "Issuance Of Debt              15719000000.0  \n",
       "Issuance Of Capital Stock     91506000000.0  "
      ]
     },
     "execution_count": 51,
     "metadata": {},
     "output_type": "execute_result"
    }
   ],
   "source": [
    "# Financial statements\n",
    "cashflow = TICKER.cashflow\n",
    "cashflow_df = pd.DataFrame(cashflow)\n",
    "\n",
    "cashflow_df.head()"
   ]
  },
  {
   "attachments": {},
   "cell_type": "markdown",
   "metadata": {},
   "source": [
    "## Datan käsittely\n",
    "\n",
    "Seuraavaksi lasketaan datan avulla yrityksen viimeisen neljän vuoden FCFE:t (Free Cash Flow to Equity) sekä näiden keskiarvo.\n",
    "<br><br>\n",
    "\n",
    "$\n",
    "\\text{FCFE} = \\text{Cash from Operations} - \\text{Capital Expenditures} + \n",
    "\\text{Net Debt Issued}\n",
    "$"
   ]
  },
  {
   "cell_type": "code",
   "execution_count": 52,
   "metadata": {},
   "outputs": [
    {
     "name": "stdout",
     "output_type": "stream",
     "text": [
      "                    FCFE\n",
      "2023-03-31  1.767420e+11\n",
      "2022-03-31  8.214900e+10\n",
      "2021-03-31  2.199500e+11\n",
      "2020-03-31  1.191990e+11\n",
      "\n",
      "Average FCFE:  149510.0 million.\n"
     ]
    }
   ],
   "source": [
    "# Dates of the data\n",
    "dates = cashflow.keys()\n",
    "\n",
    "# Empty list for FCFE\n",
    "fcf_data = pd.DataFrame(index=dates)\n",
    "\n",
    "for date in dates:\n",
    "    # Extract the components\n",
    "    operating_cashflow = cashflow_df[date]['Operating Cash Flow']\n",
    "    cap_ex = cashflow_df[date]['Capital Expenditure'] # Or Purchase Of PPE\n",
    "    net_debt = cashflow_df[date]['Net Issuance Payments Of Debt']\n",
    "    \n",
    "    # Calculate FCFE (cap_ex is already negative so it is added)\n",
    "    fcfe = operating_cashflow + cap_ex + net_debt\n",
    "    \n",
    "    # Add FCFE to the list\n",
    "    fcf_data.loc[date, 'FCFE'] = fcfe\n",
    "\n",
    "# Display new dataframe\n",
    "print(fcf_data)\n",
    "\n",
    "# Calculate and display average FCFE\n",
    "average_fcfe = fcf_data['FCFE'].mean()\n",
    "\n",
    "print()\n",
    "print(\"Average FCFE: \", average_fcfe/1000000, \"million.\")"
   ]
  },
  {
   "attachments": {},
   "cell_type": "markdown",
   "metadata": {},
   "source": [
    "Tuloksista nähdään, että viimeisen neljän vuoden aikana keskimääräinen FCFE on\n",
    " ollut noin 150 miljardia renminbiä. Lisäksi näämme yksilöidysti 2020–2023 \n",
    " vuosien FCFE:t. Tehdään seuraavaksi sama yrityksen viimeisen neljän vuoden \n",
    " FCFF:lle (Free Cash Flow to Firm).<br><br>\n",
    "\n",
    "$\n",
    "\\text{FCFF} = \\text{Cash from Operations} + \\text{Interest Expense}(1 – \n",
    "\\text{Companys Tax rate}) – \\text{Capital Expenditure}\n",
    "$"
   ]
  },
  {
   "cell_type": "code",
   "execution_count": 53,
   "metadata": {},
   "outputs": [
    {
     "name": "stdout",
     "output_type": "stream",
     "text": [
      "Effective Tax Rate: 23.12 %\n"
     ]
    }
   ],
   "source": [
    "# Calculate the tax rate for the company: (tax paid) / (profit before tax)\n",
    "previous_tax_rates = financials_df.loc['Tax Provision'] / financials_df.loc['Pretax Income']\n",
    "\n",
    "# Mean of the previous years\n",
    "tax_rate = previous_tax_rates.mean()\n",
    "print(\"Effective Tax Rate:\", round(tax_rate * 100, 2), \"%\")"
   ]
  },
  {
   "cell_type": "code",
   "execution_count": 54,
   "metadata": {},
   "outputs": [
    {
     "name": "stdout",
     "output_type": "stream",
     "text": [
      "                    FCFE          FCFF\n",
      "2023-03-31  1.767420e+11  1.784609e+11\n",
      "2022-03-31  8.214900e+10  1.052805e+11\n",
      "2021-03-31  2.199500e+11  1.920421e+11\n",
      "2020-03-31  1.191990e+11  1.392033e+11\n",
      "\n",
      "Average FCFF:  153746.70440057167 million.\n"
     ]
    }
   ],
   "source": [
    "for date in dates:\n",
    "    # Extract the components\n",
    "    operating_cashflow = cashflow_df[date]['Operating Cash Flow']\n",
    "    cap_ex = cashflow_df[date]['Capital Expenditure'] # Or Purchase Of PPE\n",
    "    interest_expense = financials_df[date]['Interest Expense']\n",
    "    \n",
    "    # Calculate FCFF (cap_ex is already negative so it is added)\n",
    "    fcff = operating_cashflow + interest_expense * (1 - tax_rate) + cap_ex\n",
    "    \n",
    "    # Add FCFF to the list\n",
    "    fcf_data.loc[date, 'FCFF'] = fcff\n",
    "\n",
    "# Display new dataframe\n",
    "print(fcf_data)\n",
    "\n",
    "# Calculate and display average FCFF\n",
    "average_fcff = fcf_data['FCFF'].mean()\n",
    "\n",
    "print()\n",
    "print(\"Average FCFF: \", average_fcff/1000000, \"million.\")"
   ]
  },
  {
   "attachments": {},
   "cell_type": "markdown",
   "metadata": {},
   "source": [
    "Tuloksista nähdään, että viimeisen neljän vuoden aikana keskimääräinen FCFF on\n",
    " ollut noin 150 miljardia renminbiä, mikä on hyvin lähellä FCFE:tä. Lisäksi \n",
    " näämme yksilöidysti 2020–2023 vuosien FCFF:t."
   ]
  },
  {
   "cell_type": "markdown",
   "metadata": {},
   "source": [
    "## Datan visualisointi\n",
    "\n",
    "Visualisoidaan Yahoo Financesta haettujen tietojen perusteella lasketut FCFE\n",
    "ja FCFF. Luodaan pylväsdiagrammi, jonka avulla hahmoitamme kassavirtaa paremmin."
   ]
  },
  {
   "cell_type": "code",
   "execution_count": 55,
   "metadata": {},
   "outputs": [],
   "source": [
    "# Save the plots for export to pdf\n",
    "all_figures = []"
   ]
  },
  {
   "cell_type": "code",
   "execution_count": 56,
   "metadata": {},
   "outputs": [
    {
     "data": {
      "image/png": "[encoded data removed]",
      "text/plain": [
       "<Figure size 1200x600 with 1 Axes>"
      ]
     },
     "metadata": {},
     "output_type": "display_data"
    }
   ],
   "source": [
    "# Set the width of the bars\n",
    "bar_width = 0.25\n",
    "\n",
    "plt.figure(figsize=(12, 6))\n",
    "\n",
    "# Get the FCFE and FCFF data\n",
    "fcfe_values = fcf_data['FCFE'][::-1] \n",
    "fcff_values = fcf_data['FCFF'][::-1] \n",
    "\n",
    "# Calculate the positions for the bars\n",
    "positions_fcfe = np.arange(len(dates))\n",
    "positions_fcff = positions_fcfe + bar_width\n",
    "\n",
    "# Plot FCFE and FCFF\n",
    "plt.bar(positions_fcfe, fcfe_values, bar_width, color='skyblue', label='FCFE')\n",
    "plt.bar(positions_fcff, fcff_values, bar_width, color='salmon', label='FCFF')\n",
    "\n",
    "# Adding average lines\n",
    "plt.axhline(y=average_fcfe, color='b', linestyle='--', label='Average FCFE')\n",
    "plt.axhline(y=average_fcff, color='r', linestyle='--', label='Average FCFF')\n",
    "\n",
    "# Extract only the year portion of the dates for x-axis tick labels\n",
    "formatted_dates = [datetime.strptime(str(date), '%Y-%m-%d %H:%M:%S').year \n",
    "                   for date in dates][::-1] \n",
    "\n",
    "# Adding labels\n",
    "plt.xlabel('Year')\n",
    "plt.ylabel('FCF')\n",
    "plt.title('FCFE (Free Cash Flow to Equity) and FCFF (Free Cash Flow to Firm) Annually')\n",
    "\n",
    "plt.xticks(np.arange(len(dates)) + bar_width / 2, formatted_dates, rotation=45, ha='right') \n",
    "plt.legend()\n",
    "plt.tight_layout()\n",
    "\n",
    "fig = plt.gcf()\n",
    "all_figures.append(fig)\n",
    "\n",
    "plt.show()"
   ]
  },
  {
   "attachments": {},
   "cell_type": "markdown",
   "metadata": {},
   "source": [
    "# 3. Raapija\n",
    "\n",
    "## Valuutanvaihtokurssi\n",
    "\n",
    "Haetaan harjoituksen vuoksi tässä luvussa valuutan vaihtokurssi eri valuuttaa \n",
    "oleville taloudellisille luvuille raapijan avulla. Näin saamme muutettua \n",
    "lopussa kaikki laskennalliset osakkeiden hinnat samaksi valuutaksi, mitä osake \n",
    "oikeasti on. Luodaan ensin funktiot kurssin etsimiseksi:"
   ]
  },
  {
   "cell_type": "code",
   "execution_count": 57,
   "metadata": {},
   "outputs": [],
   "source": [
    "import requests\n",
    "from bs4 import BeautifulSoup"
   ]
  },
  {
   "cell_type": "code",
   "execution_count": 58,
   "metadata": {},
   "outputs": [],
   "source": [
    "# Function that get a excange rate\n",
    "def get_exchange_rate(base_currency, target_currency):\n",
    "    page = requests.get(f\"https://www.x-rates.com/calculator/?from={base_currency}&to={target_currency}&amount=1\")\n",
    "    soup = BeautifulSoup(page.text, 'html.parser')\n",
    "    exchange_rate = soup.find(class_=\"ccOutputTrail\").previous_sibling.get_text(strip=True)\n",
    "    return float(exchange_rate)\n",
    "\n",
    "# Function that converts an amount of currency to another\n",
    "def convert_currency(rate, amount):\n",
    "    converted_amount = amount * rate\n",
    "    return converted_amount\n"
   ]
  },
  {
   "attachments": {},
   "cell_type": "markdown",
   "metadata": {},
   "source": [
    "Tunnistetaan seuraavaksi valuutat ja haetaan vaihtokurssi:"
   ]
  },
  {
   "cell_type": "code",
   "execution_count": 59,
   "metadata": {},
   "outputs": [
    {
     "name": "stdout",
     "output_type": "stream",
     "text": [
      "1 CNY is equivalent to 0.1383 USD\n"
     ]
    }
   ],
   "source": [
    "# Define the currency of the finacial data and the stock price\n",
    "base_currency = info['financialCurrency']\n",
    "target_currency = info['currency']\n",
    "amount = 1\n",
    "\n",
    "# Convert an amount \n",
    "exchange_rate = get_exchange_rate(base_currency, target_currency)\n",
    "conversion_rate = convert_currency(exchange_rate, amount)\n",
    "\n",
    "print(f\"{amount} {base_currency} is equivalent to {conversion_rate} {target_currency}\")"
   ]
  },
  {
   "attachments": {},
   "cell_type": "markdown",
   "metadata": {},
   "source": [
    "# 4. DCF-laskelmat\n",
    "Kappaleessa suoritetaan neljän vuoden FCFE ja FCFF keskiarvon perusteella \n",
    "DCF-laskelmat yrityksen osakekannan arvon määrittämiseksi. Laskuja tehdään\n",
    "kolme kappaletta (ei kasvua, jatkuva kasvu, kasvu 5 v - jonka jälkeen jatkuvaa \n",
    "kasvua) <br>\n",
    "\n",
    "## Kavuun liittyvät määrittelyt\n",
    "\n",
    "Määritetään alkuun loputtomasti jatkuvalle kasvulle (Terminal Growth) ja alun \n",
    "kasvulle ennustetut nopeudet. Lisäksi määritetään alussa olevan kasvun keston \n",
    "aika vuosina."
   ]
  },
  {
   "cell_type": "code",
   "execution_count": 60,
   "metadata": {},
   "outputs": [],
   "source": [
    "# Terminal growth rate\n",
    "t_g = 0.01\n",
    "\n",
    "# Beginging years growth rate\n",
    "g = 0.05\n",
    "\n",
    "# Begining number of years \n",
    "years = 5"
   ]
  },
  {
   "attachments": {},
   "cell_type": "markdown",
   "metadata": {},
   "source": [
    "## FCFE\n",
    "Osakekannan arvo voidaan löytää diskonttaamalla FCFE tuottovaatimuksella, eli \n",
    "nolla kasvun tapauksessa näin:"
   ]
  },
  {
   "cell_type": "code",
   "execution_count": 61,
   "metadata": {},
   "outputs": [
    {
     "name": "stdout",
     "output_type": "stream",
     "text": [
      "Equity value using FCFE: 1245.9 billion.\n"
     ]
    }
   ],
   "source": [
    "def infinite_sum(fcf, r, max_terms=1000):\n",
    "    total = 0\n",
    "    for t in range(1, max_terms + 1):\n",
    "        term = fcf / (1 + r) ** t\n",
    "        total += term\n",
    "    \n",
    "    return total\n",
    "\n",
    "# Example usage for BABA 4-year average FCFE and RRR\n",
    "equity_value = infinite_sum(average_fcfe, RRR)\n",
    "print(\"Equity value using FCFE:\", round(equity_value/1000000000, 1), \"billion.\")"
   ]
  },
  {
   "attachments": {},
   "cell_type": "markdown",
   "metadata": {},
   "source": [
    "Jos FCFE:n oletetaan kasvavan tai pienenevän tasaisesti loputtomiin voidaan \n",
    "osakekannan arvo määrittää seuraavalla kaavalla:"
   ]
  },
  {
   "cell_type": "code",
   "execution_count": 62,
   "metadata": {},
   "outputs": [
    {
     "name": "stdout",
     "output_type": "stream",
     "text": [
      "Equity value using FCFE: 1372.8 billion.\n"
     ]
    }
   ],
   "source": [
    "def growing_fcf(fcfe, t_g, r):\n",
    "    value = (fcfe * (1 + t_g)) / (r - t_g)\n",
    "    return value\n",
    "\n",
    "# Example usage for BABA 4-year average FCFE and RRR\n",
    "equity_value_growth = growing_fcf(average_fcfe, t_g, RRR)\n",
    "print(\"Equity value using FCFE:\", round(equity_value_growth/1000000000, 1), \n",
    "      \"billion.\")"
   ]
  },
  {
   "attachments": {},
   "cell_type": "markdown",
   "metadata": {},
   "source": [
    "Jos oletetaan FCFE:n kasvavan tai laskevan ensin jokun aikaa tasaisesti tiettyä vauhtia ja \n",
    "tämän jälkeen kasvavan toista vauhtia loputtomiin, voidaan käyttää seuraavaa kaavaa:"
   ]
  },
  {
   "cell_type": "code",
   "execution_count": 63,
   "metadata": {},
   "outputs": [
    {
     "name": "stdout",
     "output_type": "stream",
     "text": [
      "Equity value using FCFE: 1612.7 billion.\n"
     ]
    }
   ],
   "source": [
    "def two_stage_fcf_valuation(fcf, r, g, t_g, n):\n",
    "    total = 0\n",
    "    \n",
    "    for t in range(1, n + 1):\n",
    "        fcf = fcf * (1 + g)\n",
    "        term = fcf / ((1 + r) ** t)\n",
    "\n",
    "        total += term\n",
    "\n",
    "    second_term_total = ((fcf * (1 + t_g)) / (r - t_g)) / ((1 + r) ** n)\n",
    "\n",
    "    return total + second_term_total\n",
    "\n",
    "# Example usage for BABA 4-year average FCFE and RRR\n",
    "equity_value_two_stage = two_stage_fcf_valuation(average_fcfe, RRR, g, t_g, years)\n",
    "print(\"Equity value using FCFE:\", round(equity_value_two_stage/1000000000, 1), \n",
    "      \"billion.\")"
   ]
  },
  {
   "attachments": {},
   "cell_type": "markdown",
   "metadata": {},
   "source": [
    "FCFE:tä käytettäessä tulee kiinnittä erityistä huomiota, ettei yrityksen velan \n",
    "määrä ole korkea, koska tämä voi johtaa pienempiin kuin arvioituihin \n",
    "kassavirtoihin osakkeenomistajille. Korkean velan lisäksi yrityksen ei tulisi \n",
    "olla selvitystilassa eikä sillä tulisi olla muita monimutkaisia \n",
    "kapitalisaatiorakenteita, jotka vaikuttavat osakkeenomistajien eriarvoisuuteen \n",
    "(vaikka malleja voidaan muuttaa niin, että nämä otetaan huomioon).\n",
    "<br><br>\n",
    "Tämän vuoksi tarkastellaan seuraavaksi yrityksen velkaantuneisuutta \n",
    "Debt-to-Equity- ja Debt-to-EBITDA-suhteilla. Jos yritys ei ole velkainen FCFE:tä \n",
    "voidaan käyttää osakkeista maksettavan hinnan määrittämisessä."
   ]
  },
  {
   "cell_type": "code",
   "execution_count": 64,
   "metadata": {},
   "outputs": [
    {
     "name": "stdout",
     "output_type": "stream",
     "text": [
      "Debt-to-Equity ratio: 0.17\n",
      "Debt-to-Equity ratio is within good or acceptable range\n",
      "\n",
      "Debt-to-EBITDA ratio: 1.09\n",
      "Debt-to-EBITDA ratio is within good or acceptable range\n"
     ]
    }
   ],
   "source": [
    "# Get ratios\n",
    "debt_to_equity = round(info['debtToEquity']/100, 2)\n",
    "debt_to_ebitda = round(info['totalDebt']/info['ebitda'], 2)\n",
    "\n",
    "# Display ratios\n",
    "print(\"Debt-to-Equity ratio:\", debt_to_equity)\n",
    "if debt_to_equity > 2:\n",
    "    print(\"High debt (Debt-to-Equity ratio above 2)\")\n",
    "else:\n",
    "    print(\"Debt-to-Equity ratio is within good or acceptable range\")\n",
    "\n",
    "print()\n",
    "\n",
    "print(\"Debt-to-EBITDA ratio:\", debt_to_ebitda)\n",
    "if debt_to_ebitda > 3:\n",
    "    print(\"High debt (Debt-to-EBITDA ratio over 3)\")\n",
    "else:\n",
    "    print(\"Debt-to-EBITDA ratio is within good or acceptable range\")\n"
   ]
  },
  {
   "attachments": {},
   "cell_type": "markdown",
   "metadata": {},
   "source": [
    "## FCFF\n",
    "Free Cash Flow to the Firmia (FCFF) käytetään arvioimaan yrityksen nykyarvoa\n",
    " tulevaisuuden FCFF:ien diskonttauksen kautta Weighted Average Cost of Capitalin\n",
    " (WACC) avulla. Tämän jälkeen osakepääoman arvo voidaan selvittää vähentämällä \n",
    " yrityksen nykyarvosta sen velat. Lasketaan FCFF ilman kasvuodotuksia, tasaisen \n",
    " jatkuvan kasvuodotuksen kanssa ja kaksivaiheisen kasvuodotuksen avulla:"
   ]
  },
  {
   "cell_type": "code",
   "execution_count": 65,
   "metadata": {},
   "outputs": [
    {
     "name": "stdout",
     "output_type": "stream",
     "text": [
      "Firm value using FCFF: 1397.7 billion.\n",
      "Equity value using FCFF: 1813.6 billion.\n"
     ]
    }
   ],
   "source": [
    "# Example usage for BABA 4-year average FCFF and WACC (no growth)\n",
    "firm_value = infinite_sum(average_fcff, wacc)\n",
    "\n",
    "print(\"Firm value using FCFF:\", round(firm_value/1000000000, 1), \"billion.\")\n",
    "print(\"Equity value using FCFF:\", round((firm_value - info['totalDebt'] + \n",
    "                                        info['totalCash']) / 1000000000, 1),\n",
    "                                          \"billion.\")"
   ]
  },
  {
   "cell_type": "code",
   "execution_count": 66,
   "metadata": {},
   "outputs": [
    {
     "name": "stdout",
     "output_type": "stream",
     "text": [
      "Firm value using FCFF: 1552.8 billion.\n",
      "Equity value using FCFF: 1968.7 billion.\n"
     ]
    }
   ],
   "source": [
    "# Example usage for BABA 4-year average FCFF and WACC (expected growth)\n",
    "firm_value_growth = growing_fcf(average_fcff, t_g, wacc)\n",
    "\n",
    "print(\"Firm value using FCFF:\", round(firm_value_growth/1000000000, 1), \n",
    "      \"billion.\")\n",
    "print(\"Equity value using FCFF:\", round((firm_value_growth - info['totalDebt'] +\n",
    "                                         info['totalCash']) /1000000000, \n",
    "                                         1), \"billion.\")"
   ]
  },
  {
   "cell_type": "code",
   "execution_count": 67,
   "metadata": {},
   "outputs": [
    {
     "name": "stdout",
     "output_type": "stream",
     "text": [
      "Firm value using FCFF: 1828.8 billion.\n",
      "Equity value using FCFF: 2244.7 billion.\n"
     ]
    }
   ],
   "source": [
    "# Example usage for BABA 4-year average FCFF and WACC (two-stage growth)\n",
    "firm_value_two_stage = two_stage_fcf_valuation(average_fcff, wacc, g,t_g, years)\n",
    "\n",
    "print(\"Firm value using FCFF:\", round(firm_value_two_stage/1000000000, 1), \n",
    "      \"billion.\")\n",
    "print(\"Equity value using FCFF:\", round((firm_value_two_stage - \n",
    "                                         info['totalDebt'] + info['totalCash']) \n",
    "                                         /1000000000, 1), \"billion.\")"
   ]
  },
  {
   "attachments": {},
   "cell_type": "markdown",
   "metadata": {},
   "source": [
    "# 5. Osakkeen hinnoittelu\n",
    "\n",
    "## Kassavirtojen avulla\n",
    "\n",
    "Lakettaessa hintaa osakkeelle FCFE:n ja FCFF:n keskiarvojen \n",
    "perusteella tehtyjen DCF-laskelmien avulla tulee osakkeenomistajille laskettu \n",
    "arvo vain jakaa osakkeiden määrällä. Tässä vaiheessa on kuitenkin hyvä huomioida \n",
    "pari mahdollista kompastuskiveä. FCFF laskelmissa hyödynnettiin korkona WACC. \n",
    "Tulee huomata, että kun WACC muuttuu, niin muuttuu myös laskennallinen \n",
    "osakkeen arvo. Osakkeen laskennallinen arvo muuttuu myös jos kasvunäkymät \n",
    "muuttuvat ja jos jotkin ulkoiset tai sisäiset tekijät vaikuttavat yrityksen \n",
    "kilpailu- tai tuloksentekokykyyn. Lisäksi osakkeiden absoluuttinen määrä \n",
    "vaikuttaa suoraan osakkeen hintaan.<br><br>\n",
    "\n",
    "### FCFE\n",
    "\n",
    "Lasketaan ensin FCFE:n perusteella osakkeelle arvo:"
   ]
  },
  {
   "cell_type": "code",
   "execution_count": 68,
   "metadata": {},
   "outputs": [],
   "source": [
    "# No growth\n",
    "stock_price_fcfe = equity_value / info['sharesOutstanding']\n",
    "\n",
    "# Growth\n",
    "stock_price_fcfe_growth = equity_value_growth / info['sharesOutstanding']\n",
    "\n",
    "# Two-Stage\n",
    "stock_price_fcfe_two = equity_value_two_stage / info['sharesOutstanding']\n",
    "\n",
    "# Conversion to the same currency as the stock\n",
    "stock_price_fcfe = stock_price_fcfe * conversion_rate\n",
    "stock_price_fcfe_growth = stock_price_fcfe_growth * conversion_rate\n",
    "stock_price_fcfe_two = stock_price_fcfe_two * conversion_rate"
   ]
  },
  {
   "cell_type": "code",
   "execution_count": 69,
   "metadata": {},
   "outputs": [
    {
     "name": "stdout",
     "output_type": "stream",
     "text": [
      "Based on the 12.0 % required rate of return and no growth the value of a stock is: 68.92\n",
      "Based on the 12.0 % required rate of return and 1.0 % terminal growth the value of a stock is: 75.94\n",
      "Based on 12.0 % RRR, 5.0 % initial growth and 1.0 % terminal growth the value of a stock is: 89.21\n",
      "\n",
      "Current actual price is: 72.44\n"
     ]
    }
   ],
   "source": [
    "print(\"Based on the\", RRR * 100, \"%\", \n",
    "      \"required rate of return and no growth the value of a stock is:\", \n",
    "      round(stock_price_fcfe, 2))\n",
    "print(\"Based on the\", RRR * 100, \"%\", \"required rate of return and\", t_g * 100,\n",
    "       \"%\", \"terminal growth the value of a stock is:\", \n",
    "       round(stock_price_fcfe_growth,2))\n",
    "print(\"Based on\", RRR * 100, \"%\", \"RRR,\", g * 100, \"%\", \"initial growth and\", \n",
    "      t_g * 100, \"%\", \"terminal growth the value of a stock is:\", \n",
    "       round(stock_price_fcfe_two,2))\n",
    "\n",
    "print()\n",
    "\n",
    "print(\"Current actual price is:\", info['currentPrice'])\n"
   ]
  },
  {
   "cell_type": "markdown",
   "metadata": {},
   "source": [
    "Plotting the same information as above:"
   ]
  },
  {
   "cell_type": "code",
   "execution_count": 70,
   "metadata": {},
   "outputs": [
    {
     "data": {
      "image/png": "[encoded data removed]",
      "text/plain": [
       "<Figure size 1000x600 with 1 Axes>"
      ]
     },
     "metadata": {},
     "output_type": "display_data"
    }
   ],
   "source": [
    "scenarios = ['No Growth', 'Terminal Growth', 'Two-Stage Growth']\n",
    "prices = [stock_price_fcfe, stock_price_fcfe_growth, stock_price_fcfe_two]\n",
    "\n",
    "# Plotting\n",
    "plt.figure(figsize=(10, 6))\n",
    "\n",
    "# Plotting the stock prices\n",
    "plt.bar(scenarios, prices, color='skyblue', label='Calculated Value')\n",
    "\n",
    "# Adding a line for the current price\n",
    "plt.axhline(y=info['currentPrice'], color='b', linestyle='--', label='Current Price')\n",
    "\n",
    "# Adding labels and title\n",
    "plt.xlabel('Growth Scenarios')\n",
    "plt.ylabel(target_currency)\n",
    "plt.title('Stock Prices (FCFE)')\n",
    "plt.xticks(rotation=45)\n",
    "plt.legend()\n",
    "plt.tight_layout()\n",
    "\n",
    "fig = plt.gcf()\n",
    "all_figures.append(fig)\n",
    "\n",
    "plt.show()"
   ]
  },
  {
   "attachments": {},
   "cell_type": "markdown",
   "metadata": {},
   "source": [
    "### FCFF\n",
    "Lasketaan seuraavaksi FCFF:n perusteella osakkeelle hinta:"
   ]
  },
  {
   "cell_type": "code",
   "execution_count": 71,
   "metadata": {},
   "outputs": [],
   "source": [
    "# No growth\n",
    "stock_price_fcff = (firm_value - info['totalDebt'] + \n",
    "                    info['totalCash']) / info['sharesOutstanding']\n",
    "\n",
    "# Growth\n",
    "stock_price_fcff_growth = (firm_value_growth - info['totalDebt'] + \n",
    "                           info['totalCash']) / info['sharesOutstanding']\n",
    "\n",
    "# Two-Stage growth\n",
    "stock_price_fcff_two = (firm_value_two_stage - info['totalDebt'] + \n",
    "                        info['totalCash']) / info['sharesOutstanding']\n",
    "\n",
    "#Currency to USD\n",
    "stock_price_fcff = stock_price_fcff * conversion_rate\n",
    "stock_price_fcff_growth = stock_price_fcff_growth * conversion_rate\n",
    "stock_price_fcff_two = stock_price_fcff_two * conversion_rate\n",
    "\n",
    "# Calculate margins of safety\n",
    "mof = round(-1 * (info['currentPrice'] / stock_price_fcff - 1), 2)\n",
    "mof_g = round(-1 * (info['currentPrice'] / stock_price_fcff_growth - 1), 2)\n",
    "mof_t = round(-1 * (info['currentPrice'] / stock_price_fcff_two - 1), 2)"
   ]
  },
  {
   "cell_type": "code",
   "execution_count": 72,
   "metadata": {},
   "outputs": [
    {
     "name": "stdout",
     "output_type": "stream",
     "text": [
      "With a WACC of 11.0 % and no growth the value of a stock is: 100.33\n",
      "With a WACC of 11.0 % and 1.0 % terminal growth the value of a stock is: 108.91\n",
      "With a WACC of 11.0 %, 5.0 % initial growth and 1.0 % terminal growth the value of a stock is: 124.18\n",
      "\n",
      "With no growth there is a 28.000000000000004 % margin of safety\n",
      "With 1.0 % terminal growth there is a 33.0 % margin of safety\n",
      "With 5.0 % initial growth and 1.0 % terminal growth there is a 42.0 % margin of safety\n",
      "\n",
      "Current actual price is: 72.44\n"
     ]
    }
   ],
   "source": [
    "# Printouts\n",
    "print(\"With a WACC of\", wacc * 100, \"%\", \"and no growth the value of a stock is:\", \n",
    "      round(stock_price_fcff, 2))\n",
    "print(\"With a WACC of\", wacc * 100, \"%\", \"and\", t_g * 100, \"%\", \n",
    "      \"terminal growth the value of a stock is:\", round(stock_price_fcff_growth, 2))\n",
    "print(\"With a WACC of\", wacc * 100, \"%,\", g * 100, \"%\", \"initial growth and\", \n",
    "      t_g * 100, \"%\", \"terminal growth the value of a stock is:\", \n",
    "      round(stock_price_fcff_two, 2))\n",
    "\n",
    "print()\n",
    "\n",
    "# Display margin of safety\n",
    "print(\"With no growth there is a\", mof * 100, \"%\", \"margin of safety\")\n",
    "print(\"With\", t_g * 100, \"%\", \"terminal growth there is a\", mof_g * 100, \"%\", \n",
    "      \"margin of safety\")\n",
    "print(\"With\", g * 100, \"%\", \"initial growth and\", t_g * 100, \"%\", \n",
    "      \"terminal growth there is a\", mof_t * 100, \"%\", \"margin of safety\")\n",
    "\n",
    "print()\n",
    "\n",
    "print(\"Current actual price is:\", info['currentPrice'])"
   ]
  },
  {
   "cell_type": "markdown",
   "metadata": {},
   "source": [
    "Plotting the same information as above:"
   ]
  },
  {
   "cell_type": "code",
   "execution_count": 73,
   "metadata": {},
   "outputs": [
    {
     "data": {
      "image/png": "[encoded data removed]",
      "text/plain": [
       "<Figure size 1000x600 with 1 Axes>"
      ]
     },
     "metadata": {},
     "output_type": "display_data"
    }
   ],
   "source": [
    "scenarios = ['No Growth', 'Terminal Growth', 'Two-Stage Growth']\n",
    "prices = [stock_price_fcff, stock_price_fcff_growth, stock_price_fcff_two]\n",
    "\n",
    "# Plotting\n",
    "plt.figure(figsize=(10, 6))\n",
    "\n",
    "# Plotting the stock prices\n",
    "plt.bar(scenarios, prices, color='salmon', label='Calculated Value')\n",
    "\n",
    "# Adding a line for the current price\n",
    "plt.axhline(y=info['currentPrice'], color='r', linestyle='--', label='Current Price')\n",
    "\n",
    "# Adding labels and title\n",
    "plt.xlabel('Growth Scenarios')\n",
    "plt.ylabel(target_currency)\n",
    "plt.title('Stock Prices (FCFF)')\n",
    "plt.xticks(rotation=45)\n",
    "plt.legend()\n",
    "plt.tight_layout()\n",
    "\n",
    "fig = plt.gcf()\n",
    "all_figures.append(fig)\n",
    "\n",
    "plt.show()"
   ]
  },
  {
   "cell_type": "markdown",
   "metadata": {},
   "source": [
    "## Kasvu skenaariot\n",
    "\n",
    "Piirretään kuvaaja, jossa kuvataan erilaisia mahdollisia kasvu skenaarioita ja \n",
    "osakkeen hintoja FCFE:n perusteella näissä skenaarioissa. Skenaarioiden avulla \n",
    "voidaan katsoa nopeasti yhdellä silmäyksellä eri ääripäitä ja todennäköisiä \n",
    "osakkeen arvoja. Eri skenaariot \n",
    "koostuvat:<br>\n",
    "- Alku kasvu 5-10 vuotta, jonka voimakkuus -5–15 %\n",
    "- Loppuvaiheen kasvu -2–4 %"
   ]
  },
  {
   "cell_type": "code",
   "execution_count": 74,
   "metadata": {},
   "outputs": [
    {
     "data": {
      "image/png": "[encoded data removed]",
      "text/plain": [
       "<Figure size 1000x600 with 1 Axes>"
      ]
     },
     "metadata": {},
     "output_type": "display_data"
    }
   ],
   "source": [
    "# Ranges\n",
    "year_sc = np.arange(5, 11)\n",
    "g_sc = np.arange(-0.05, 0.16, 0.002)\n",
    "t_g_sc = np.arange(-0.02, 0.05, 0.01)  \n",
    "shares = info['sharesOutstanding']\n",
    "\n",
    "# Calculate FCFE valuation for each combination of parameters\n",
    "valuations = []\n",
    "for year in year_sc:\n",
    "    for g in g_sc:\n",
    "        for t_g in t_g_sc:\n",
    "            price = two_stage_fcf_valuation(average_fcfe, RRR, g, t_g, year)\n",
    "            stock_price = (price / shares) * conversion_rate\n",
    "            valuations.append(stock_price)\n",
    "\n",
    "# Convert valuations to numpy array\n",
    "valuations_array = np.array(valuations)\n",
    "\n",
    "# Sort the stock prices\n",
    "sorted_stock_prices = np.sort(valuations_array)\n",
    "\n",
    "# Plot the sorted stock prices with flipped axes\n",
    "plt.figure(figsize=(10, 6))\n",
    "plt.plot(np.arange(len(sorted_stock_prices)), sorted_stock_prices, marker='o', linestyle='None')\n",
    "plt.title(f'Stock Prices with Different Growth Scenarios and a {RRR * 100} % Required Rate of Return')\n",
    "plt.xlabel('Order Number')\n",
    "plt.ylabel('Stock Price')\n",
    "plt.grid(True)\n",
    "\n",
    "fig = plt.gcf()\n",
    "all_figures.append(fig)\n",
    "\n",
    "plt.show()\n"
   ]
  },
  {
   "attachments": {},
   "cell_type": "markdown",
   "metadata": {},
   "source": [
    "## Tunnusluvut\n",
    "\n",
    "DCF-laskelmien lisäksi analyytikot tykkäävät usein tarkastella myös \n",
    "kannattavuuskertoimia (CFA Institute). Lisätään tämän vuoksi myös muutamia \n",
    "yleisiä kannattavuuskertoimia, jotta saamme paremman käsityksen yrityksen\n",
    "kannattavuudesta, hinnoittelusta ja maksuvalmiudesta."
   ]
  },
  {
   "cell_type": "code",
   "execution_count": 75,
   "metadata": {},
   "outputs": [],
   "source": [
    "# Define ratios\n",
    "pe_ratio = round(info['forwardPE'], 1)\n",
    "pb_ratio = round(info['previousClose'] / (info['bookValue']*conversion_rate), 1)\n",
    "q_ratio = round(info['quickRatio'], 2)\n",
    "c_ratio = round(info['currentRatio'], 2)\n",
    "g_margin = round(info['grossMargins']* 100, 1)\n",
    "p_margin = round(info['profitMargins']* 100, 1)\n",
    "roe = round(info['returnOnEquity'] * 100, 1)\n",
    "dividend = round(info['dividendYield'] * 100, 1)"
   ]
  },
  {
   "cell_type": "code",
   "execution_count": 76,
   "metadata": {},
   "outputs": [
    {
     "name": "stdout",
     "output_type": "stream",
     "text": [
      "Forward P/E: 8.2\n",
      "P/B ratio: 1.3\n",
      "\n",
      "Quick ratio: 1.37\n",
      "Current ratio: 1.8\n",
      "Short ratio: 2.9\n",
      "\n",
      "Gross margin: 37.9 %\n",
      "Profit margin: 10.8 %\n",
      "\n",
      "ROE: 8.2 %\n",
      "Dividend yield: 1.4 %\n",
      "Cash per Share: 4.2 USD\n"
     ]
    }
   ],
   "source": [
    "# Print ratios\n",
    "print(\"Forward P/E:\", pe_ratio)\n",
    "print(\"P/B ratio:\", pb_ratio)\n",
    "\n",
    "print()\n",
    "\n",
    "print(\"Quick ratio:\", q_ratio)\n",
    "print(\"Current ratio:\", c_ratio)\n",
    "print(\"Short ratio:\", round(info['shortRatio'], 2))\n",
    "\n",
    "print()\n",
    "\n",
    "print(\"Gross margin:\", g_margin, \"%\")\n",
    "print(\"Profit margin:\", p_margin, \"%\")\n",
    "\n",
    "print()\n",
    "\n",
    "print(\"ROE:\", roe, \"%\")\n",
    "print(\"Dividend yield:\", dividend, \"%\")\n",
    "print(\"Cash per Share:\", round(info['totalCashPerShare'] * conversion_rate, 1), \n",
    "      target_currency)"
   ]
  },
  {
   "cell_type": "markdown",
   "metadata": {},
   "source": [
    "Visualisoidaan vielä edellä mainitut kannattavuuden tunnusluvut."
   ]
  },
  {
   "cell_type": "code",
   "execution_count": 77,
   "metadata": {},
   "outputs": [],
   "source": [
    "# Define data groups\n",
    "ratios_group1 = ['P/B ratio', 'Quick ratio', 'Current ratio']\n",
    "ratio_values_group1 = [pb_ratio, q_ratio, c_ratio]\n",
    "ratio_thresholds_group1 = [(1, 2), (1, 0.5), (2, 1)]\n",
    "\n",
    "percentages_group2 = ['Forward P/E', 'ROE-%', 'Dividend yield -%']\n",
    "percentage_values_group2 = [pe_ratio, roe, dividend]\n",
    "percentage_thresholds_group2 = [(12, 20), (15, 5), (5, 0)]\n",
    "\n",
    "percentages_group3 = ['Gross margin', 'Profit margin']\n",
    "percentage_values_group3 = [g_margin, p_margin]\n",
    "percentage_thresholds_group3 = [(40, 20), (10, 5)]\n",
    "\n",
    "# Colors based on thresholds\n",
    "def get_color(value, thresholds):\n",
    "    if thresholds[0] < thresholds[1]:\n",
    "        if value < thresholds[0]:\n",
    "            return 'green' \n",
    "        elif value > thresholds[1]:\n",
    "            return 'red' \n",
    "    else:\n",
    "        if value > thresholds[0]:\n",
    "            return 'green' \n",
    "        elif value < thresholds[1]:\n",
    "            return 'red' \n",
    "    return 'lightgrey'\n",
    "\n",
    "# Function to annotate bars with values\n",
    "def annotate_bars(ax, values):\n",
    "    for i, value in enumerate(values):\n",
    "        ax.text(i, value + 0.05, str(value), ha='center', va='bottom')"
   ]
  },
  {
   "cell_type": "code",
   "execution_count": 78,
   "metadata": {},
   "outputs": [
    {
     "data": {
      "image/png": "[encoded data removed]",
      "text/plain": [
       "<Figure size 1000x600 with 1 Axes>"
      ]
     },
     "metadata": {},
     "output_type": "display_data"
    }
   ],
   "source": [
    "# Plotting key ratios\n",
    "plt.figure(figsize=(10, 6))\n",
    "ratios_colors_group1 = [get_color(value, thresholds) for value, thresholds in \n",
    "                        zip(ratio_values_group1, ratio_thresholds_group1)]\n",
    "bars = plt.bar(ratios_group1, ratio_values_group1, color=ratios_colors_group1)\n",
    "plt.xticks(rotation=45)\n",
    "plt.ylim(0, max(ratio_values_group1) * 1.1)\n",
    "plt.grid(axis='y', linestyle='--', alpha=0.7)\n",
    "annotate_bars(plt.gca(), ratio_values_group1)\n",
    "\n",
    "fig = plt.gcf()\n",
    "all_figures.append(fig)\n",
    "\n",
    "plt.show()"
   ]
  },
  {
   "cell_type": "code",
   "execution_count": 79,
   "metadata": {},
   "outputs": [
    {
     "data": {
      "image/png": "[encoded data removed]",
      "text/plain": [
       "<Figure size 1000x600 with 1 Axes>"
      ]
     },
     "metadata": {},
     "output_type": "display_data"
    }
   ],
   "source": [
    "# Plotting key metrics\n",
    "plt.figure(figsize=(10, 6))\n",
    "percentages_colors_group2 = [get_color(value, thresholds) for value, thresholds \n",
    "                             in zip(percentage_values_group2, \n",
    "                                    percentage_thresholds_group2)]\n",
    "bars = plt.bar(percentages_group2, percentage_values_group2, \n",
    "               color=percentages_colors_group2)\n",
    "plt.xticks(rotation=45)\n",
    "plt.ylim(0, max(percentage_values_group2) * 1.1)\n",
    "plt.grid(axis='y', linestyle='--', alpha=0.7)\n",
    "annotate_bars(plt.gca(), percentage_values_group2)\n",
    "\n",
    "fig = plt.gcf()\n",
    "all_figures.append(fig)\n",
    "\n",
    "plt.show()"
   ]
  },
  {
   "cell_type": "code",
   "execution_count": 80,
   "metadata": {},
   "outputs": [
    {
     "data": {
      "image/png": "[encoded data removed]",
      "text/plain": [
       "<Figure size 1000x600 with 1 Axes>"
      ]
     },
     "metadata": {},
     "output_type": "display_data"
    }
   ],
   "source": [
    "# Plotting margins\n",
    "plt.figure(figsize=(10, 6))\n",
    "percentages_colors_group3 = [get_color(value, thresholds) for value, thresholds \n",
    "                             in zip(percentage_values_group3, \n",
    "                                    percentage_thresholds_group3)]\n",
    "bars = plt.bar(percentages_group3, percentage_values_group3, \n",
    "               color=percentages_colors_group3)\n",
    "plt.ylabel('%')\n",
    "plt.xticks(rotation=45)\n",
    "plt.ylim(0, max(percentage_values_group3) * 1.1)\n",
    "plt.grid(axis='y', linestyle='--', alpha=0.7)\n",
    "annotate_bars(plt.gca(), percentage_values_group3)\n",
    "\n",
    "fig = plt.gcf()\n",
    "all_figures.append(fig)\n",
    "\n",
    "plt.show()"
   ]
  },
  {
   "cell_type": "markdown",
   "metadata": {},
   "source": [
    "Viimeiseksi tallennetaan projektin tulokset PDF muodossa koneelle."
   ]
  },
  {
   "cell_type": "code",
   "execution_count": 81,
   "metadata": {},
   "outputs": [
    {
     "name": "stdout",
     "output_type": "stream",
     "text": [
      "PDF saved successfully!\n"
     ]
    }
   ],
   "source": [
    "# Saving all the plots to a file\n",
    "t = info['symbol']\n",
    "\n",
    "# Create a new figure to combine all the subplots\n",
    "combined_fig = plt.figure(figsize=(8, 6 * len(all_figures)))\n",
    "\n",
    "# Loop through all figures and add them to the combined figure\n",
    "for i, fig in enumerate(all_figures):\n",
    "    # Add a subplot to the combined figure\n",
    "    sub = combined_fig.add_subplot(len(all_figures), 1, i + 1)\n",
    "    # Add the individual figure to the subplot\n",
    "    sub.imshow(fig.canvas.renderer.buffer_rgba())\n",
    "    # Remove axes to prevent overlap\n",
    "    sub.axis('off')\n",
    "\n",
    "# Adjust layout to prevent overlap\n",
    "plt.tight_layout()\n",
    "\n",
    "# Save the combined figure\n",
    "combined_fig.savefig(f'plots{t}.pdf', bbox_inches='tight')\n",
    "\n",
    "# Close the combined figure to free up memory (optional)\n",
    "plt.close(combined_fig)\n",
    "\n",
    "print(\"PDF saved successfully!\")"
   ]
  },
  {
   "cell_type": "markdown",
   "metadata": {},
   "source": [
    "### Yhteenveto\n",
    "\n",
    "Projektissa haetaan Yahoo Financesta alussa määritellyn yrityksen ilmaiseksi \n",
    "saatavilla oleva data. Tilinpäätöstietojen perusteella lasketaan yrityksen FCFE, \n",
    "FCFF ja vero-%. Tämän jälkeen alussa määriteltyjen tuottovaatimusten perusteella \n",
    "lasketaan yrityksen neljän vuoden keskimääräisen kassavirran perusteella \n",
    "nettonykyarvo ja osakkeen hinta nettonykyarvon perusteella. Osakkeen hintaa \n",
    "laskettaessa huomioidaan mahdollinen ero taloudellisten lukujen ja yrityksen \n",
    "kurssin valuutoissa hakemalla automaattisesti valuutanvaihtokurssi. Lopuksi \n",
    "haetaan ja visualisoidaan yrityksen kannattavuuden, maksukyvyn ja arvostuksen \n",
    "lukuja. Kaikki työssä tuotetut graafit tallennetaan pdf tiedostoon."
   ]
  },
  {
   "attachments": {},
   "cell_type": "markdown",
   "metadata": {},
   "source": [
    "# Lähteet\n",
    "CFA Institute. (2024). Free Cash Flow Valuation. CFA Program Level II | Equity \n",
    "Investments."
   ]
  }
 ],
 "metadata": {
  "kernelspec": {
   "display_name": "Python 3",
   "language": "python",
   "name": "python3"
  },
  "language_info": {
   "codemirror_mode": {
    "name": "ipython",
    "version": 3
   },
   "file_extension": ".py",
   "mimetype": "text/x-python",
   "name": "python",
   "nbconvert_exporter": "python",
   "pygments_lexer": "ipython3",
   "version": "3.10.1"
  },
  "orig_nbformat": 4,
  "vscode": {
   "interpreter": {
    "hash": "aee8b7b246df8f9039afb4144a1f6fd8d2ca17a180786b69acc140d282b71a49"
   }
  }
 },
 "nbformat": 4,
 "nbformat_minor": 2
}
